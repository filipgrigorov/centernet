{
 "cells": [
  {
   "cell_type": "code",
   "execution_count": 1,
   "source": [
    "import cv2\n",
    "import os\n",
    "import matplotlib.pyplot as plt\n",
    "import numpy as np\n",
    "import torch\n",
    "import torch.nn as nn\n",
    "import torch.nn.functional as F\n",
    "import torch.optim as optim\n",
    "\n",
    "from torch.utils.data import DataLoader\n",
    "from torchvision import transforms as transforms\n",
    "\n",
    "%matplotlib inline"
   ],
   "outputs": [],
   "metadata": {}
  },
  {
   "cell_type": "code",
   "execution_count": 2,
   "source": [
    "from dataset import CocoDataset, display_image_annot, display_bbox_annot"
   ],
   "outputs": [],
   "metadata": {}
  },
  {
   "cell_type": "code",
   "execution_count": 3,
   "source": [
    "root = 'coco'\n",
    "img_paths = 'images'\n",
    "train_dataset = CocoDataset(root, data_type=os.path.join(root, 'train2017'), transforms=None, in_memory=False, is_debug=False)\n",
    "val_dataset = CocoDataset(root, data_type=os.path.join(root, 'val2017'), transforms=None)"
   ],
   "outputs": [
    {
     "output_type": "stream",
     "name": "stdout",
     "text": [
      "loading annotations into memory...\n",
      "Done (t=10.22s)\n",
      "creating index...\n",
      "index created!\n",
      "loading annotations into memory...\n",
      "Done (t=0.25s)\n",
      "creating index...\n",
      "index created!\n"
     ]
    }
   ],
   "metadata": {}
  },
  {
   "cell_type": "code",
   "execution_count": 4,
   "source": [
    "import multiprocessing as mp\n",
    "import torch.backends.cudnn as cudnn\n",
    "\n",
    "print(f'Usable threads: { torch.get_num_threads() }')\n",
    "print(f'cuda version: { torch.version.cuda }\\tcudnn version: { cudnn.version() }')\n",
    "\n",
    "num_workers = (0.4 * mp.cpu_count())\n",
    "train_loader = DataLoader(train_dataset, batch_size=1, shuffle=True, pin_memory=True, num_workers=num_workers)\n",
    "val_loader = DataLoader(val_dataset, batch_size=1, shuffle=False, pin_memory=True, num_workers=num_workers)"
   ],
   "outputs": [
    {
     "output_type": "stream",
     "name": "stdout",
     "text": [
      "Usable threads: 12\n",
      "cuda version: 11.1\tcudnn version: 8005\n"
     ]
    }
   ],
   "metadata": {}
  },
  {
   "cell_type": "code",
   "execution_count": 6,
   "source": [
    "from nets import YoloNet\n",
    "\n",
    "'''\n",
    "    Parameters:\n",
    "    batch = 24\n",
    "    epochs = 120\n",
    "    input_multiple = 32\n",
    "\n",
    "    Data augmentation:\n",
    "    * normalized and scaled\n",
    "\n",
    "    * divide data into SxS (object check if object center falls into thius grid cell), useful for later\n",
    "    * (x, y) -> center location\n",
    "    * (w, h)\n",
    "\n",
    "    Training:\n",
    "    * Pr(obj) = confidence score and during training: \n",
    "        Pr(conf) = Pr(obj) * IoU(bbox_pred, bbox_true)\n",
    "\n",
    "    * Pr(class_i | obj) and during training: \n",
    "        Pr(obj) = regressed\n",
    "        Pr(class_i | obj) = Pr(class_i) / Pr(obj)\n",
    "'''\n",
    "\n",
    "class PersonDetection:\n",
    "    pass"
   ],
   "outputs": [],
   "metadata": {}
  },
  {
   "cell_type": "code",
   "execution_count": null,
   "source": [],
   "outputs": [],
   "metadata": {}
  },
  {
   "cell_type": "code",
   "execution_count": null,
   "source": [],
   "outputs": [],
   "metadata": {}
  }
 ],
 "metadata": {
  "kernelspec": {
   "name": "python3",
   "display_name": "Python 3.7.9 64-bit ('ml3.7': conda)"
  },
  "language_info": {
   "codemirror_mode": {
    "name": "ipython",
    "version": 3
   },
   "file_extension": ".py",
   "mimetype": "text/x-python",
   "name": "python",
   "nbconvert_exporter": "python",
   "pygments_lexer": "ipython3",
   "version": "3.7.9"
  },
  "interpreter": {
   "hash": "c801ceaaa63b8a7b5ba6e73c0d92e52c1237afdbd773052ad88d80591d59babe"
  }
 },
 "nbformat": 4,
 "nbformat_minor": 4
}